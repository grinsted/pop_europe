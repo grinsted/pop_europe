{
 "cells": [
  {
   "cell_type": "code",
   "execution_count": 69,
   "id": "5733e9bc",
   "metadata": {},
   "outputs": [],
   "source": [
    "#https://gorelick.medium.com/fast-er-downloads-a2abd512aa26\n",
    "\n",
    "import ee\n",
    "import requests\n",
    "import os\n",
    "import shutil\n",
    "import tqdm.notebook as tqdm\n",
    "\n",
    "  \n",
    "ee.Initialize(opt_url='https://earthengine-highvolume.googleapis.com',project='ee-seasonal-snow-cover')\n"
   ]
  },
  {
   "cell_type": "code",
   "execution_count": 70,
   "id": "5f0c96c5",
   "metadata": {},
   "outputs": [],
   "source": [
    "import rioxarray as rio\n",
    "import pyproj \n",
    "popgrid = rio.open_rasterio('pop2021.tif',band_as_variable=True).band_1\n",
    "crs='EPSG:3035' #popgrid.rio.crs\n",
    "transformer = pyproj.transformer.Transformer.from_crs(crs,\"epsg:4326\", always_xy=True)"
   ]
  },
  {
   "cell_type": "code",
   "execution_count": null,
   "id": "abfc4364",
   "metadata": {},
   "outputs": [],
   "source": [
    "import numpy as np\n",
    "np.random.seed(0)\n",
    "if False:\n",
    "    N=30\n",
    "    Nlarge=100000\n",
    "    x = np.random.randint(0, popgrid.shape[1], Nlarge)\n",
    "    y = np.random.randint(0, popgrid.shape[0], Nlarge)\n",
    "\n",
    "    p = popgrid.data[y,x]\n",
    "    ix = np.where(p>2000)[0]\n",
    "    ix = ix[:N]\n",
    "\n",
    "    #p=p[y[ix],x[ix]]\n",
    "    x=popgrid.x.data[x[ix]]\n",
    "    y=popgrid.y.data[y[ix]]\n",
    "    p = p[ix]\n",
    "\n",
    "    points = [[float(x),float(y),int(p)] for x,y,p in zip(x,y,p)]\n"
   ]
  },
  {
   "cell_type": "code",
   "execution_count": null,
   "id": "923872bc",
   "metadata": {},
   "outputs": [
    {
     "data": {
      "text/plain": [
       "[[3660500.0, 2067500.0, 13372],\n",
       " [3971500.0, 3114500.0, 543],\n",
       " [3693500.0, 2095500.0, 2131],\n",
       " [3511500.0, 2208500.0, 243],\n",
       " [4016500.0, 3193500.0, 1850],\n",
       " [4260500.0, 2480500.0, 6573],\n",
       " [3615500.0, 2419500.0, 46],\n",
       " [3478500.0, 2368500.0, 3283],\n",
       " [4033500.0, 2277500.0, 1728],\n",
       " [4174500.0, 3176500.0, 2168]]"
      ]
     },
     "execution_count": 72,
     "metadata": {},
     "output_type": "execute_result"
    }
   ],
   "source": [
    "x,y = np.meshgrid(range(popgrid.shape[1]),range(popgrid.shape[0]))\n",
    "x = x.flatten()\n",
    "y = y.flatten()\n",
    "ix = np.where(popgrid.data.flatten()>0)[0]\n",
    "cump = np.cumsum(popgrid.data.flatten()[ix])\n",
    "x = x[ix]\n",
    "y = y[ix]\n",
    "person = np.random.rand(50)*cump[-1]\n",
    "ix = np.ceil(np.interp(person,cump,np.arange(len(cump)))).astype(int)\n",
    "p = popgrid.data[y[ix],x[ix]]\n",
    "x=popgrid.x.data[x[ix]]\n",
    "y=popgrid.y.data[y[ix]]\n",
    "\n",
    "\n",
    "points = [[float(x),float(y),int(p)] for x,y,p in zip(x.tolist(),y.tolist(),p.tolist())]\n",
    "points"
   ]
  },
  {
   "cell_type": "code",
   "execution_count": 73,
   "id": "3620b711",
   "metadata": {},
   "outputs": [],
   "source": [
    "from retry import retry\n",
    "\n",
    "folder=os.path.abspath('tiles/')\n",
    "\n",
    "#@retry(tries=10, delay=1, backoff=2)\n",
    "def getResult(index, point):\n",
    "  \n",
    "  \"\"\"Handle the HTTP requests to download an image.\"\"\"\n",
    "\n",
    "  # Generate the desired image from the given point.\n",
    "  #filename = f'{folder}/{point[0]/1000:.0f}_{point[1]/1000:.0f}_pop{point[2]:.0f}.tif'\n",
    "\n",
    "  pixelsize = 20 #meter\n",
    "  tilewidth = 5000 #meter\n",
    "  point[0] = np.floor(point[0]/tilewidth)*tilewidth\n",
    "  point[1] = np.floor(point[1]/tilewidth)*tilewidth\n",
    "  filename = f'{folder}/{int(tilewidth/1000)}km_{int(point[0]/1000)}_{int(point[1]/1000)}.tif'\n",
    "  if os.path.exists(filename):\n",
    "    print(\"Already exists: \", filename)\n",
    "    return\n",
    "  \n",
    "  Npixels = int(tilewidth/pixelsize)\n",
    "  corner_w = point[0] # + pixelsize/2\n",
    "  corner_s = point[1] # + pixelsize/2\n",
    "  corner_e = corner_w + tilewidth #- pixelsize\n",
    "  corner_n = corner_s + tilewidth #- pixelsize\n",
    "  region = ee.Geometry.Rectangle([\n",
    "    ee.Geometry.Point((corner_w, corner_s),proj=crs),  \n",
    "    ee.Geometry.Point((corner_e, corner_n),proj=crs)\n",
    "  ], proj=crs, evenOdd=False)\n",
    "  \n",
    "  image = (ee.ImageCollection('COPERNICUS/S2_SR_HARMONIZED') #('LANDSAT/LC08/C02/T1')\n",
    "           .filterBounds(region)\n",
    "           .filterDate('2019', '2023') #more years to get more stable stats\n",
    "           .filter(ee.Filter.lt('CLOUDY_PIXEL_PERCENTAGE',20))\n",
    "           .filter(ee.Filter.calendarRange(6,10,'month')) #get rid of snowy season (and reduce memory usage)\n",
    "           .median()\n",
    "           .select('B1','B2','B3','B4','B5','B6','B7','B8','B8A','B11','B12')\n",
    "           )\n",
    "\n",
    "  s1vv = (ee.ImageCollection('COPERNICUS/S1_GRD')\n",
    "    .filterDate('2021', '2022')\n",
    "    .filter(ee.Filter.eq('instrumentMode', 'IW'))\n",
    "    .filter(ee.Filter.listContains('transmitterReceiverPolarisation', 'VV'))\n",
    "    .filter(ee.Filter.eq('orbitProperties_pass', 'DESCENDING'))\n",
    "    .select(['VV'])\n",
    "    .median())\n",
    "\n",
    "  s1vh = (ee.ImageCollection('COPERNICUS/S1_GRD')\n",
    "    .filterDate('2021', '2022')\n",
    "    .filter(ee.Filter.eq('instrumentMode', 'IW'))\n",
    "    .filter(ee.Filter.listContains('transmitterReceiverPolarisation', 'VH'))\n",
    "    .filter(ee.Filter.eq('orbitProperties_pass', 'DESCENDING'))\n",
    "    .select(['VH'])\n",
    "    .median())\n",
    "\n",
    "  nightlight = (ee.ImageCollection('NASA/VIIRS/002/VNP46A2')\n",
    "    .filterDate('2021', '2022')\n",
    "    .select('DNB_BRDF_Corrected_NTL')\n",
    "    .median())\n",
    "\n",
    "  image = image.addBands([nightlight,s1vv,s1vh])\n",
    "\n",
    "  # Fetch the URL from which to download the image.\n",
    "  url = image.clip(region).getDownloadURL({\n",
    "      'region': region,\n",
    "      'crs':crs,\n",
    "      'dimensions': f'{Npixels}x{Npixels}',\n",
    "      'format': 'GEO_TIFF'})\n",
    "\n",
    "  # Handle downloading the actual pixels.\n",
    "  r = requests.get(url, stream=True)\n",
    "  if r.status_code != 200:\n",
    "    print(\"Error: \", index, point, r.text)\n",
    "    raise r.raise_for_status()\n",
    "\n",
    "  with open(filename, 'wb') as out_file:\n",
    "    shutil.copyfileobj(r.raw, out_file)\n",
    "  print(\"Done: \", index, filename) "
   ]
  },
  {
   "cell_type": "code",
   "execution_count": 74,
   "id": "4406c018",
   "metadata": {},
   "outputs": [
    {
     "name": "stdout",
     "output_type": "stream",
     "text": [
      "Done:  0 c:\\Users\\ag\\Documents\\Python\\pop_europe\\tiles/5km_3660_2065.tif\n"
     ]
    }
   ],
   "source": [
    "getResult(0, points[0])"
   ]
  },
  {
   "cell_type": "code",
   "execution_count": 75,
   "id": "a83fa3fa",
   "metadata": {},
   "outputs": [
    {
     "data": {
      "application/vnd.jupyter.widget-view+json": {
       "model_id": "b7ddb2b6b5de4bf0a8fb6c7e98181349",
       "version_major": 2,
       "version_minor": 0
      },
      "text/plain": [
       "  0%|          | 0/10 [00:00<?, ?it/s]"
      ]
     },
     "metadata": {},
     "output_type": "display_data"
    },
    {
     "name": "stdout",
     "output_type": "stream",
     "text": [
      "Already exists:  c:\\Users\\ag\\Documents\\Python\\pop_europe\\tiles/5km_3660_2065.tif\n",
      "Done:  1 c:\\Users\\ag\\Documents\\Python\\pop_europe\\tiles/5km_3970_3110.tif\n",
      "Done:  2 c:\\Users\\ag\\Documents\\Python\\pop_europe\\tiles/5km_3690_2095.tif\n",
      "Done:  3 c:\\Users\\ag\\Documents\\Python\\pop_europe\\tiles/5km_3510_2205.tif\n",
      "Done:  4 c:\\Users\\ag\\Documents\\Python\\pop_europe\\tiles/5km_4015_3190.tif\n",
      "Done:  5 c:\\Users\\ag\\Documents\\Python\\pop_europe\\tiles/5km_4260_2480.tif\n",
      "Done:  6 c:\\Users\\ag\\Documents\\Python\\pop_europe\\tiles/5km_3615_2415.tif\n",
      "Done:  7 c:\\Users\\ag\\Documents\\Python\\pop_europe\\tiles/5km_3475_2365.tif\n",
      "Done:  8 c:\\Users\\ag\\Documents\\Python\\pop_europe\\tiles/5km_4030_2275.tif\n",
      "Done:  9 c:\\Users\\ag\\Documents\\Python\\pop_europe\\tiles/5km_4170_3175.tif\n"
     ]
    }
   ],
   "source": [
    "for j in tqdm.tqdm(range(len(points))): #optional:use multiprocessing instead\n",
    "    getResult(j, points[j])"
   ]
  },
  {
   "cell_type": "code",
   "execution_count": null,
   "id": "7bcd5296",
   "metadata": {},
   "outputs": [
    {
     "data": {
      "image/png": "[encoded data removed]",
      "text/plain": [
       "<Figure size 640x480 with 191 Axes>"
      ]
     },
     "metadata": {},
     "output_type": "display_data"
    }
   ],
   "source": [
    "import glob\n",
    "import matplotlib.pyplot as plt\n",
    "files=glob.glob('tiles/*.tif')\n",
    "1/0\n",
    "for ix,file in enumerate(files):\n",
    "    plt.subplot(int(len(files)/8+.99),8,ix+1)\n",
    "    ds = rio.open_rasterio(file)\n",
    "    np.sqrt(np.minimum(ds[3:0:-1,:,:]/3500,1)).plot.imshow()\n",
    "    plt.axis('off')\n",
    "    plt.axis('equal')\n",
    "    plt.title('')\n",
    "    #1/0\n",
    "plt.tight_layout()"
   ]
  },
  {
   "cell_type": "code",
   "execution_count": null,
   "id": "f6bbb59f",
   "metadata": {},
   "outputs": [],
   "source": []
  },
  {
   "cell_type": "code",
   "execution_count": null,
   "id": "a920b611",
   "metadata": {},
   "outputs": [],
   "source": []
  }
 ],
 "metadata": {
  "kernelspec": {
   "display_name": "gee",
   "language": "python",
   "name": "python3"
  },
  "language_info": {
   "codemirror_mode": {
    "name": "ipython",
    "version": 3
   },
   "file_extension": ".py",
   "mimetype": "text/x-python",
   "name": "python",
   "nbconvert_exporter": "python",
   "pygments_lexer": "ipython3",
   "version": "3.11.12"
  }
 },
 "nbformat": 4,
 "nbformat_minor": 5
}
