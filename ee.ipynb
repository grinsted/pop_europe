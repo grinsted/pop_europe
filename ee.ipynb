{
 "cells": [
  {
   "cell_type": "code",
   "execution_count": 27,
   "id": "5733e9bc",
   "metadata": {},
   "outputs": [],
   "source": [
    "#https://gorelick.medium.com/fast-er-downloads-a2abd512aa26\n",
    "\n",
    "import ee\n",
    "import requests\n",
    "import os\n",
    "import shutil\n",
    "import tqdm.notebook as tqdm\n",
    "\n",
    "  \n",
    "ee.Initialize(opt_url='https://earthengine-highvolume.googleapis.com',project='ee-seasonal-snow-cover')\n"
   ]
  },
  {
   "cell_type": "code",
   "execution_count": 28,
   "id": "5f0c96c5",
   "metadata": {},
   "outputs": [],
   "source": [
    "import rioxarray as rio\n",
    "import pyproj \n",
    "popgrid = rio.open_rasterio('pop2021.tif',band_as_variable=True).band_1\n",
    "crs='EPSG:3035' #popgrid.rio.crs\n",
    "transformer = pyproj.transformer.Transformer.from_crs(crs,\"epsg:4326\", always_xy=True)"
   ]
  },
  {
   "cell_type": "code",
   "execution_count": null,
   "id": "abfc4364",
   "metadata": {},
   "outputs": [
    {
     "data": {
      "text/plain": [
       "30"
      ]
     },
     "execution_count": 33,
     "metadata": {},
     "output_type": "execute_result"
    }
   ],
   "source": [
    "import numpy as np\n",
    "np.random.seed(0)\n",
    "N=30\n",
    "Nlarge=100000\n",
    "x = np.random.randint(0, popgrid.shape[1], Nlarge)\n",
    "y = np.random.randint(0, popgrid.shape[0], Nlarge)\n",
    "\n",
    "p = popgrid.data[y,x]\n",
    "ix = np.where(p>2000)[0]\n",
    "ix = ix[:N]\n",
    "\n",
    "#p=p[y[ix],x[ix]]\n",
    "x=popgrid.x.data[x[ix]]\n",
    "y=popgrid.y.data[y[ix]]\n",
    "p = p[ix]\n",
    "\n",
    "points = [[float(x),float(y),int(p)] for x,y,p in zip(x,y,p)]\n"
   ]
  },
  {
   "cell_type": "code",
   "execution_count": null,
   "id": "923872bc",
   "metadata": {},
   "outputs": [
    {
     "data": {
      "text/plain": [
       "[[6609500.0, 1298500.0, 350931944],\n",
       " [6409500.0, 3740500.0, 298702765],\n",
       " [6508500.0, -2757500.0, 321815296],\n",
       " [6349500.0, -1383500.0, 286290695],\n",
       " [6512500.0, 1892500.0, 323391060],\n",
       " [6716500.0, 4404500.0, 371684708],\n",
       " [6515500.0, 2116500.0, 324608625],\n",
       " [6784500.0, 4751500.0, 387229959],\n",
       " [7155500.0, 2907500.0, 422235338],\n",
       " [7754500.0, 3773500.0, 439086872]]"
      ]
     },
     "execution_count": 62,
     "metadata": {},
     "output_type": "execute_result"
    }
   ],
   "source": [
    "y,x = np.meshgrid(range(popgrid.shape[0]),range(popgrid.shape[1]))\n",
    "x = x.flatten()\n",
    "y = y.flatten()\n",
    "ix = np.where(popgrid.data.flatten()>0)[0]\n",
    "cump = np.cumsum(popgrid.data.flatten()[ix])\n",
    "x = x[ix]\n",
    "y = y[ix]\n",
    "person = np.random.rand(10)*cump[-1]\n",
    "ix = np.ceil(np.interp(person,p,np.arange(len(cump)))).astype(int)\n",
    "\n",
    "x=popgrid.x.data[x[ix]]\n",
    "y=popgrid.y.data[y[ix]]\n",
    "p = cump[ix]\n",
    "points = [[float(x),float(y),int(p)] for x,y,p in zip(x.tolist(),y.tolist(),p.tolist())]\n",
    "points"
   ]
  },
  {
   "cell_type": "code",
   "execution_count": 63,
   "id": "3620b711",
   "metadata": {},
   "outputs": [],
   "source": [
    "from retry import retry\n",
    "\n",
    "folder=os.path.abspath('tiles/')\n",
    "\n",
    "#@retry(tries=10, delay=1, backoff=2)\n",
    "def getResult(index, point):\n",
    "  \n",
    "  \"\"\"Handle the HTTP requests to download an image.\"\"\"\n",
    "\n",
    "  # Generate the desired image from the given point.\n",
    "  #filename = f'{folder}/{point[0]/1000:.0f}_{point[1]/1000:.0f}_pop{point[2]:.0f}.tif'\n",
    "\n",
    "  pixelsize = 20 #meter\n",
    "  tilewidth = 5000 #meter\n",
    "  point[0] = np.floor(point[0]/tilewidth)*tilewidth\n",
    "  point[1] = np.floor(point[1]/tilewidth)*tilewidth\n",
    "  filename = f'{folder}/{int(tilewidth/1000)}km_{int(point[0]/1000)}_{int(point[1]/1000)}.tif'\n",
    "  if os.path.exists(filename):\n",
    "    print(\"Already exists: \", filename)\n",
    "    return\n",
    "  \n",
    "  Npixels = int(tilewidth/pixelsize)\n",
    "  corner_w = point[0] # + pixelsize/2\n",
    "  corner_s = point[1] # + pixelsize/2\n",
    "  corner_e = corner_w + tilewidth #- pixelsize\n",
    "  corner_n = corner_s + tilewidth #- pixelsize\n",
    "  region = ee.Geometry.Rectangle([\n",
    "    ee.Geometry.Point((corner_w, corner_s),proj=crs),  \n",
    "    ee.Geometry.Point((corner_e, corner_n),proj=crs)\n",
    "  ], proj=crs, evenOdd=False)\n",
    "  \n",
    "  image = (ee.ImageCollection('COPERNICUS/S2_SR_HARMONIZED') #('LANDSAT/LC08/C02/T1')\n",
    "           .filterBounds(region)\n",
    "           .filterDate('2019', '2023') #more years to get more stable stats\n",
    "           .filter(ee.Filter.lt('CLOUDY_PIXEL_PERCENTAGE',20))\n",
    "           .filter(ee.Filter.calendarRange(6,10,'month')) #get rid of snowy season (and reduce memory usage)\n",
    "           .median()\n",
    "           .select('B1','B2','B3','B4','B5','B6','B7','B8','B8A','B11','B12')\n",
    "           )\n",
    "\n",
    "  s1vv = (ee.ImageCollection('COPERNICUS/S1_GRD')\n",
    "    .filterDate('2021', '2022')\n",
    "    .filter(ee.Filter.eq('instrumentMode', 'IW'))\n",
    "    .filter(ee.Filter.listContains('transmitterReceiverPolarisation', 'VV'))\n",
    "    .filter(ee.Filter.eq('orbitProperties_pass', 'DESCENDING'))\n",
    "    .select(['VV'])\n",
    "    .median())\n",
    "\n",
    "  s1vh = (ee.ImageCollection('COPERNICUS/S1_GRD')\n",
    "    .filterDate('2021', '2022')\n",
    "    .filter(ee.Filter.eq('instrumentMode', 'IW'))\n",
    "    .filter(ee.Filter.listContains('transmitterReceiverPolarisation', 'VH'))\n",
    "    .filter(ee.Filter.eq('orbitProperties_pass', 'DESCENDING'))\n",
    "    .select(['VH'])\n",
    "    .median())\n",
    "\n",
    "  nightlight = (ee.ImageCollection('NASA/VIIRS/002/VNP46A2')\n",
    "    .filterDate('2021', '2022')\n",
    "    .select('DNB_BRDF_Corrected_NTL')\n",
    "    .median())\n",
    "\n",
    "  image = image.addBands([nightlight,s1vv,s1vh])\n",
    "\n",
    "  # Fetch the URL from which to download the image.\n",
    "  url = image.clip(region).getDownloadURL({\n",
    "      'region': region,\n",
    "      'crs':crs,\n",
    "      'dimensions': f'{Npixels}x{Npixels}',\n",
    "      'format': 'GEO_TIFF'})\n",
    "\n",
    "  # Handle downloading the actual pixels.\n",
    "  r = requests.get(url, stream=True)\n",
    "  if r.status_code != 200:\n",
    "    print(\"Error: \", index, point, r.text)\n",
    "    raise r.raise_for_status()\n",
    "\n",
    "  with open(filename, 'wb') as out_file:\n",
    "    shutil.copyfileobj(r.raw, out_file)\n",
    "  print(\"Done: \", index, filename) "
   ]
  },
  {
   "cell_type": "code",
   "execution_count": 64,
   "id": "4406c018",
   "metadata": {},
   "outputs": [
    {
     "name": "stdout",
     "output_type": "stream",
     "text": [
      "Done:  0 c:\\Users\\ag\\Documents\\Python\\pop_europe\\tiles/5km_6605_1295.tif\n"
     ]
    }
   ],
   "source": [
    "getResult(0, points[0])"
   ]
  },
  {
   "cell_type": "code",
   "execution_count": null,
   "id": "a83fa3fa",
   "metadata": {},
   "outputs": [
    {
     "data": {
      "application/vnd.jupyter.widget-view+json": {
       "model_id": "22df819ef8824469a83aa2bc8ea35729",
       "version_major": 2,
       "version_minor": 0
      },
      "text/plain": [
       "  0%|          | 0/10 [00:00<?, ?it/s]"
      ]
     },
     "metadata": {},
     "output_type": "display_data"
    },
    {
     "name": "stdout",
     "output_type": "stream",
     "text": [
      "Already exists:  c:\\Users\\ag\\Documents\\Python\\pop_europe\\tiles/5km_6605_1295.tif\n",
      "Done:  1 c:\\Users\\ag\\Documents\\Python\\pop_europe\\tiles/5km_6405_3740.tif\n",
      "Done:  2 c:\\Users\\ag\\Documents\\Python\\pop_europe\\tiles/5km_6505_-2760.tif\n",
      "Done:  3 c:\\Users\\ag\\Documents\\Python\\pop_europe\\tiles/5km_6345_-1385.tif\n"
     ]
    }
   ],
   "source": [
    "for j in tqdm.tqdm(range(len(points))): #optional:use multiprocessing instead\n",
    "    getResult(j, points[j])"
   ]
  },
  {
   "cell_type": "code",
   "execution_count": 37,
   "id": "7bcd5296",
   "metadata": {},
   "outputs": [
    {
     "data": {
      "image/png": "[encoded data removed]",
      "text/plain": [
       "<Figure size 640x480 with 180 Axes>"
      ]
     },
     "metadata": {},
     "output_type": "display_data"
    }
   ],
   "source": [
    "import glob\n",
    "import matplotlib.pyplot as plt\n",
    "files=glob.glob('tiles/*.tif')\n",
    "for ix,file in enumerate(files):\n",
    "    plt.subplot(int(len(files)/8+.99),8,ix+1)\n",
    "    ds = rio.open_rasterio(file)\n",
    "    np.sqrt(np.minimum(ds[3:0:-1,:,:]/3500,1)).plot.imshow()\n",
    "    plt.axis('off')\n",
    "    plt.axis('equal')\n",
    "    plt.title('')\n",
    "    #1/0\n",
    "plt.tight_layout()"
   ]
  },
  {
   "cell_type": "code",
   "execution_count": null,
   "id": "f6bbb59f",
   "metadata": {},
   "outputs": [
    {
     "data": {
      "text/plain": [
       "np.int64(355818029)"
      ]
     },
     "execution_count": 24,
     "metadata": {},
     "output_type": "execute_result"
    }
   ],
   "source": []
  },
  {
   "cell_type": "code",
   "execution_count": null,
   "id": "67475347",
   "metadata": {},
   "outputs": [
    {
     "data": {
      "text/plain": [
       "(np.int64(4208), np.int64(7131))"
      ]
     },
     "execution_count": 54,
     "metadata": {},
     "output_type": "execute_result"
    }
   ],
   "source": [
    "\n",
    "\n",
    "y,x = np.meshgrid(range(popgrid.shape[0]),range(popgrid.shape[1]))\n",
    "x = x.flatten()\n",
    "y = y.flatten()\n",
    "ix = np.where(popgrid.data.flatten()>0)[0]\n",
    "p = np.cumsum(popgrid.data.flatten()[ix])\n",
    "x = x[ix]\n",
    "y = y[ix]\n",
    "person = np.random.rand(10)*p[-1]\n",
    "ix = np.ceil(np.interp(person,p,np.arange(len(p)))).astype(int)\n"
   ]
  },
  {
   "cell_type": "code",
   "execution_count": 57,
   "id": "67158817",
   "metadata": {},
   "outputs": [
    {
     "data": {
      "text/plain": [
       "[np.float64(4940000.0), np.float64(3060000.0), 4073]"
      ]
     },
     "execution_count": 57,
     "metadata": {},
     "output_type": "execute_result"
    }
   ],
   "source": [
    "points[0]"
   ]
  },
  {
   "cell_type": "code",
   "execution_count": 60,
   "id": "e66b2eaf",
   "metadata": {},
   "outputs": [
    {
     "data": {
      "text/plain": [
       "202169249"
      ]
     },
     "execution_count": 60,
     "metadata": {},
     "output_type": "execute_result"
    }
   ],
   "source": [
    "p.tolist()"
   ]
  },
  {
   "cell_type": "code",
   "execution_count": 61,
   "id": "5466a54c",
   "metadata": {},
   "outputs": [
    {
     "data": {
      "text/plain": [
       "(np.float64(5968500.0), np.float64(-2684500.0), np.int64(202169249))"
      ]
     },
     "execution_count": 61,
     "metadata": {},
     "output_type": "execute_result"
    }
   ],
   "source": [
    "x,y,p"
   ]
  },
  {
   "cell_type": "code",
   "execution_count": null,
   "id": "a920b611",
   "metadata": {},
   "outputs": [],
   "source": []
  }
 ],
 "metadata": {
  "kernelspec": {
   "display_name": "gee",
   "language": "python",
   "name": "python3"
  },
  "language_info": {
   "codemirror_mode": {
    "name": "ipython",
    "version": 3
   },
   "file_extension": ".py",
   "mimetype": "text/x-python",
   "name": "python",
   "nbconvert_exporter": "python",
   "pygments_lexer": "ipython3",
   "version": "3.11.12"
  }
 },
 "nbformat": 4,
 "nbformat_minor": 5
}
