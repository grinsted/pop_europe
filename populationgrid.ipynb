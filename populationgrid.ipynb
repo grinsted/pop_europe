{
 "cells": [
  {
   "cell_type": "code",
   "execution_count": null,
   "id": "2b1daf5a",
   "metadata": {},
   "outputs": [],
   "source": [
    "import pandas as pd \n",
    "import rioxarray as rio\n",
    "import xarray as xr\n",
    "import numpy as np\n",
    "from tqdm.notebook import tqdm\n",
    "df = pd.read_parquet('grid_1km.parquet',columns=['X_LLC','Y_LLC','TOT_P_2021'])\n"
   ]
  },
  {
   "cell_type": "code",
   "execution_count": null,
   "id": "8166bd79",
   "metadata": {},
   "outputs": [],
   "source": [
    "df = pd.read_parquet('grid_1km.parquet')\n",
    "df.iloc[0]"
   ]
  },
  {
   "cell_type": "code",
   "execution_count": null,
   "id": "c1523de0",
   "metadata": {},
   "outputs": [],
   "source": [
    "crs = 'EPSG:3035'\n",
    "yc = np.arange(df.Y_LLC.min(),df.Y_LLC.max()+1000,1000)+500\n",
    "xc = np.arange(df.X_LLC.min(),df.X_LLC.max()+1000,1000)+500\n",
    "df['col']=((df.X_LLC-df.X_LLC.min())/1000).astype(int)\n",
    "df['row']=((df.Y_LLC-df.Y_LLC.min())/1000).astype(int)\n",
    "\n",
    "dtype = np.int32\n",
    "\n",
    "pop = np.zeros((len(yc),len(xc)), dtype=np.int32)-1\n",
    "\n",
    "#for index,item in tqdm(df.iterrows(), total=len(df)):\n",
    "#    pop[item.row,item.col] = item.TOT_P_2021\n",
    "pop[df.row.values,df.col.values] = df.TOT_P_2021.values\n",
    "np.max(pop.ravel()),np.max(df.TOT_P_2021.values)"
   ]
  },
  {
   "cell_type": "code",
   "execution_count": null,
   "id": "7045af0c",
   "metadata": {},
   "outputs": [],
   "source": [
    "\n",
    "# Create a rioxarray from the numpy arrays\n",
    "da = xr.DataArray(pop, dims=['y', 'x'])\n",
    "da = da.assign_coords({'x': xc, 'y': yc})\n",
    "da = da.rio.write_crs(crs)\n",
    "\n",
    "da.rio.to_raster(raster_path=\"pop2021.tif\", driver=\"COG\", nodata=-1, predictor=3)\n",
    "#da.rio.to_raster(raster_path=\"pop2021.tif\", tiled=True, windowed=True, compress='LZW', predictor=2, nodata=-1)\n",
    "\n",
    "\n"
   ]
  },
  {
   "cell_type": "code",
   "execution_count": null,
   "id": "041e738d",
   "metadata": {},
   "outputs": [],
   "source": [
    "da"
   ]
  },
  {
   "cell_type": "code",
   "execution_count": null,
   "id": "54f3e0c8",
   "metadata": {},
   "outputs": [],
   "source": []
  }
 ],
 "metadata": {
  "kernelspec": {
   "display_name": "base",
   "language": "python",
   "name": "python3"
  },
  "language_info": {
   "codemirror_mode": {
    "name": "ipython",
    "version": 3
   },
   "file_extension": ".py",
   "mimetype": "text/x-python",
   "name": "python",
   "nbconvert_exporter": "python",
   "pygments_lexer": "ipython3",
   "version": "3.11.9"
  }
 },
 "nbformat": 4,
 "nbformat_minor": 5
}
